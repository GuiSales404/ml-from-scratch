{
  "nbformat": 4,
  "nbformat_minor": 0,
  "metadata": {
    "colab": {
      "provenance": [],
      "collapsed_sections": [
        "rgul9bUidLLX",
        "pP0PynoEfcXD",
        "i7Kl42Nec_0A",
        "6lWRsakka7a1",
        "J19HP8_Y13ZT",
        "Br23qqtq860E",
        "_lkZNPzJQqzv",
        "IRIVC5TufKA5",
        "yVF8OEUZfGQ0"
      ]
    },
    "kernelspec": {
      "name": "python3",
      "display_name": "Python 3"
    },
    "language_info": {
      "name": "python"
    }
  },
  "cells": [
    {
      "cell_type": "markdown",
      "source": [
        "## Imports"
      ],
      "metadata": {
        "id": "rgul9bUidLLX"
      }
    },
    {
      "cell_type": "code",
      "source": [
        "import numpy as np"
      ],
      "metadata": {
        "id": "hmaLxUrLdNWC"
      },
      "execution_count": null,
      "outputs": []
    },
    {
      "cell_type": "code",
      "source": [
        "import matplotlib.pyplot as plt"
      ],
      "metadata": {
        "id": "nE4kRxcVt0Kt"
      },
      "execution_count": null,
      "outputs": []
    },
    {
      "cell_type": "markdown",
      "source": [
        "# Criterias and Funcs"
      ],
      "metadata": {
        "id": "pP0PynoEfcXD"
      }
    },
    {
      "cell_type": "markdown",
      "source": [
        "## Base Criterias"
      ],
      "metadata": {
        "id": "i7Kl42Nec_0A"
      }
    },
    {
      "cell_type": "code",
      "source": [
        "def calc_mre(true, pred):\n",
        "  return (np.abs(true - pred)/np.abs(true)).mean()"
      ],
      "metadata": {
        "id": "41iC81-jdKcv"
      },
      "execution_count": null,
      "outputs": []
    },
    {
      "cell_type": "code",
      "source": [
        "def calc_rmse(true, pred):\n",
        "  return np.mean(np.sqrt((true-pred)**2))"
      ],
      "metadata": {
        "id": "ehDVcrQ6c_Md"
      },
      "execution_count": null,
      "outputs": []
    },
    {
      "cell_type": "code",
      "source": [
        "def calc_mse(true, pred):\n",
        "  return np.mean((true-pred)**2)"
      ],
      "metadata": {
        "id": "tKHeY1NWijQd"
      },
      "execution_count": null,
      "outputs": []
    },
    {
      "cell_type": "markdown",
      "source": [
        "## Ready2go Funcs"
      ],
      "metadata": {
        "id": "e7rI3ETlgj2q"
      }
    },
    {
      "cell_type": "code",
      "source": [
        "def inv_mult(B, v1):\n",
        "  return np.linalg.solve(B,v1)"
      ],
      "metadata": {
        "id": "TBKRUKyLgoKD"
      },
      "execution_count": null,
      "outputs": []
    },
    {
      "cell_type": "code",
      "source": [
        "def plot_regression(X, y, y_pred, log=None, title=\"Regression Plot\"):\n",
        "    plt.figure(figsize=(16,6))\n",
        "    plt.rcParams['figure.dpi'] = 227\n",
        "    plt.scatter(X, y, label='Data', c='#388fd8', s=6)\n",
        "    if log != None:\n",
        "        for i in range(len(log)):\n",
        "            plt.plot(X, log[i][0]*X + log[i][1], lw=1, c='#caa727', alpha=0.35)\n",
        "    plt.plot(X, y_pred, c='#ff7702', lw=3, label='Regression')\n",
        "    plt.title(title, fontSize=14)\n",
        "    plt.xlabel('X', fontSize=11)\n",
        "    plt.ylabel('Y', fontSize=11)\n",
        "    plt.legend(frameon=True, loc=1, fontsize=10, borderpad=.6)\n",
        "    plt.tick_params(direction='out', length=6, color='#a0a0a0', width=1, grid_alpha=.6)\n",
        "    plt.show()"
      ],
      "metadata": {
        "id": "RnR4o9S48YYi"
      },
      "execution_count": null,
      "outputs": []
    },
    {
      "cell_type": "markdown",
      "source": [
        "# Respostas"
      ],
      "metadata": {
        "id": "bire_iXdfhQY"
      }
    },
    {
      "cell_type": "markdown",
      "source": [
        "## Qo1) A - OLS"
      ],
      "metadata": {
        "id": "6lWRsakka7a1"
      }
    },
    {
      "cell_type": "markdown",
      "source": [
        "### dataset"
      ],
      "metadata": {
        "id": "J19HP8_Y13ZT"
      }
    },
    {
      "cell_type": "code",
      "source": [
        "artificial = np.genfromtxt('/content/artificial1d.csv', delimiter=',')\n",
        "artificial"
      ],
      "metadata": {
        "colab": {
          "base_uri": "https://localhost:8080/"
        },
        "id": "GChNbM4IdqW7",
        "outputId": "ae4c74c6-9853-41a8-8223-2c70d3ce77dc"
      },
      "execution_count": null,
      "outputs": [
        {
          "output_type": "execute_result",
          "data": {
            "text/plain": [
              "array([[-1.        , -2.08201726],\n",
              "       [-0.93103448, -1.32698023],\n",
              "       [-0.86206897, -1.10559772],\n",
              "       [-0.79310345, -0.87394576],\n",
              "       [-0.72413793, -0.28502695],\n",
              "       [-0.65517241, -0.43115252],\n",
              "       [-0.5862069 , -0.79475402],\n",
              "       [-0.51724138, -0.88606806],\n",
              "       [-0.44827586, -0.89989978],\n",
              "       [-0.37931034, -0.86184365],\n",
              "       [-0.31034483, -0.88805183],\n",
              "       [-0.24137931, -1.23595129],\n",
              "       [-0.17241379, -0.71956827],\n",
              "       [-0.10344828, -0.45202286],\n",
              "       [-0.03448276,  0.09889951],\n",
              "       [ 0.03448276,  0.34896973],\n",
              "       [ 0.10344828,  0.09747797],\n",
              "       [ 0.17241379,  0.70019809],\n",
              "       [ 0.24137931,  1.31051213],\n",
              "       [ 0.31034483,  1.00177576],\n",
              "       [ 0.37931034,  1.00318231],\n",
              "       [ 0.44827586,  1.14910129],\n",
              "       [ 0.51724138,  1.59220607],\n",
              "       [ 0.5862069 ,  0.60909009],\n",
              "       [ 0.65517241,  0.59441623],\n",
              "       [ 0.72413793,  0.70300732],\n",
              "       [ 0.79310345,  0.82332241],\n",
              "       [ 0.86206897,  1.10646439],\n",
              "       [ 0.93103448,  1.42295695],\n",
              "       [ 1.        ,  2.30983768]])"
            ]
          },
          "metadata": {},
          "execution_count": 9
        }
      ]
    },
    {
      "cell_type": "code",
      "source": [
        "artificial.shape"
      ],
      "metadata": {
        "colab": {
          "base_uri": "https://localhost:8080/"
        },
        "id": "7Dnb_4jCeg8O",
        "outputId": "e8fbe28b-667f-4260-8c4c-f24d1ded5b67"
      },
      "execution_count": null,
      "outputs": [
        {
          "output_type": "execute_result",
          "data": {
            "text/plain": [
              "(30, 2)"
            ]
          },
          "metadata": {},
          "execution_count": 10
        }
      ]
    },
    {
      "cell_type": "code",
      "execution_count": null,
      "metadata": {
        "id": "SXxnHKVHZ5Dv"
      },
      "outputs": [],
      "source": [
        "X = np.hstack((np.ones((30, 1)), artificial[:, [0]]))\n",
        "y = artificial[:, [1]]"
      ]
    },
    {
      "cell_type": "code",
      "source": [
        "print('X shape: ', X[1].shape)\n",
        "print('y shape: ', y.shape)"
      ],
      "metadata": {
        "colab": {
          "base_uri": "https://localhost:8080/"
        },
        "id": "wmUPW4BAeo4-",
        "outputId": "7e9900ff-d623-4d30-b9eb-856a4bce0aab"
      },
      "execution_count": null,
      "outputs": [
        {
          "output_type": "stream",
          "name": "stdout",
          "text": [
            "X shape:  (2,)\n",
            "y shape:  (30, 1)\n"
          ]
        }
      ]
    },
    {
      "cell_type": "markdown",
      "source": [
        "### código"
      ],
      "metadata": {
        "id": "ujORuPTnjkbo"
      }
    },
    {
      "cell_type": "code",
      "source": [
        "def ols_algorithm(X, y):\n",
        "  w = inv_mult((X.T @ X), X.T) @ y\n",
        "  y_hat = X @ w\n",
        "\n",
        "  print('Vetor de paramêtros:')\n",
        "  print(w, '\\n')\n",
        "  print('MSE Obtido:', calc_mse(y, y_hat))\n",
        "  print()\n",
        "\n",
        "  #plotting line\n",
        "  plt.plot(X[:, 1], y_hat, color='red', label='Linear Regression')\n",
        "\n",
        "  #plot the data point\n",
        "  plt.scatter(X[:, 1], y, color='blue', label='Data Point')\n",
        "\n",
        "  plt.legend()\n",
        "  plt.show()"
      ],
      "metadata": {
        "id": "PQ6cnY6se4d1"
      },
      "execution_count": null,
      "outputs": []
    },
    {
      "cell_type": "code",
      "source": [
        "ols_algorithm(X, y)"
      ],
      "metadata": {
        "colab": {
          "base_uri": "https://localhost:8080/",
          "height": 534
        },
        "id": "3C1863RBjmox",
        "outputId": "09a8e681-c117-4f44-ec33-35a0a4739dca"
      },
      "execution_count": null,
      "outputs": [
        {
          "output_type": "stream",
          "name": "stdout",
          "text": [
            "Vetor de paramêtros:\n",
            "[[0.06761792]\n",
            " [1.57486517]] \n",
            "\n",
            "MSE Obtido: 0.21340090132936987\n",
            "\n"
          ]
        },
        {
          "output_type": "display_data",
          "data": {
            "text/plain": [
              "<Figure size 640x480 with 1 Axes>"
            ],
            "image/png": "[encoded data removed]"
          },
          "metadata": {}
        }
      ]
    },
    {
      "cell_type": "markdown",
      "source": [
        "## Qo1) B & C - GD & SGD"
      ],
      "metadata": {
        "id": "8i2stM9tXqo1"
      }
    },
    {
      "cell_type": "markdown",
      "source": [
        "### dataset"
      ],
      "metadata": {
        "id": "Br23qqtq860E"
      }
    },
    {
      "cell_type": "code",
      "source": [
        "artificial = np.genfromtxt('/content/artificial1d.csv', delimiter=',')\n",
        "artificial"
      ],
      "metadata": {
        "colab": {
          "base_uri": "https://localhost:8080/"
        },
        "outputId": "fdd7663f-52aa-4540-8139-4abf6363aa5b",
        "id": "vzRO703Y860F"
      },
      "execution_count": null,
      "outputs": [
        {
          "output_type": "execute_result",
          "data": {
            "text/plain": [
              "array([[-1.        , -2.08201726],\n",
              "       [-0.93103448, -1.32698023],\n",
              "       [-0.86206897, -1.10559772],\n",
              "       [-0.79310345, -0.87394576],\n",
              "       [-0.72413793, -0.28502695],\n",
              "       [-0.65517241, -0.43115252],\n",
              "       [-0.5862069 , -0.79475402],\n",
              "       [-0.51724138, -0.88606806],\n",
              "       [-0.44827586, -0.89989978],\n",
              "       [-0.37931034, -0.86184365],\n",
              "       [-0.31034483, -0.88805183],\n",
              "       [-0.24137931, -1.23595129],\n",
              "       [-0.17241379, -0.71956827],\n",
              "       [-0.10344828, -0.45202286],\n",
              "       [-0.03448276,  0.09889951],\n",
              "       [ 0.03448276,  0.34896973],\n",
              "       [ 0.10344828,  0.09747797],\n",
              "       [ 0.17241379,  0.70019809],\n",
              "       [ 0.24137931,  1.31051213],\n",
              "       [ 0.31034483,  1.00177576],\n",
              "       [ 0.37931034,  1.00318231],\n",
              "       [ 0.44827586,  1.14910129],\n",
              "       [ 0.51724138,  1.59220607],\n",
              "       [ 0.5862069 ,  0.60909009],\n",
              "       [ 0.65517241,  0.59441623],\n",
              "       [ 0.72413793,  0.70300732],\n",
              "       [ 0.79310345,  0.82332241],\n",
              "       [ 0.86206897,  1.10646439],\n",
              "       [ 0.93103448,  1.42295695],\n",
              "       [ 1.        ,  2.30983768]])"
            ]
          },
          "metadata": {},
          "execution_count": 53
        }
      ]
    },
    {
      "cell_type": "code",
      "source": [
        "artificial.shape"
      ],
      "metadata": {
        "colab": {
          "base_uri": "https://localhost:8080/"
        },
        "outputId": "e58293f2-15bf-44e7-f5c4-a52ef1277620",
        "id": "8HkPhurq860G"
      },
      "execution_count": null,
      "outputs": [
        {
          "output_type": "execute_result",
          "data": {
            "text/plain": [
              "(30, 2)"
            ]
          },
          "metadata": {},
          "execution_count": 54
        }
      ]
    },
    {
      "cell_type": "code",
      "execution_count": null,
      "metadata": {
        "id": "_E8_4cVv860H"
      },
      "outputs": [],
      "source": [
        "X = np.hstack((np.ones((30, 1)), artificial[:, [0]]))\n",
        "y = artificial[:, [1]]"
      ]
    },
    {
      "cell_type": "code",
      "source": [
        "print('X shape: ', X.shape)\n",
        "print('y shape: ', y.shape)"
      ],
      "metadata": {
        "colab": {
          "base_uri": "https://localhost:8080/"
        },
        "outputId": "86fe50de-3eb3-4fc7-aa57-d6dc75209cd8",
        "id": "d-ysazud860H"
      },
      "execution_count": null,
      "outputs": [
        {
          "output_type": "stream",
          "name": "stdout",
          "text": [
            "X shape:  (30, 2)\n",
            "y shape:  (30, 1)\n"
          ]
        }
      ]
    },
    {
      "cell_type": "markdown",
      "source": [
        "### código"
      ],
      "metadata": {
        "id": "_lkZNPzJQqzv"
      }
    },
    {
      "cell_type": "code",
      "source": [
        "class LinearRegression:\n",
        "\n",
        "  def __init__(self, learning_rate=0.01, n_iters=1000):\n",
        "    self.lr = learning_rate\n",
        "    self.n_iters = n_iters\n",
        "    self.weights = None\n",
        "    self.bias = None\n",
        "    self.count_samples_size = 0\n",
        "    self.inter_error = []\n",
        "    self.c_errors = []\n",
        "    self.c_epoches = []\n",
        "\n",
        "  def init_params(self):\n",
        "      self.weights = np.zeros((self.n_features, 1))\n",
        "      self.bias = 0\n",
        "\n",
        "  def get_prediction(self, X):\n",
        "    return (X @ self.weights) + self.bias\n",
        "\n",
        "  def get_gradients(self, X, y, y_pred):\n",
        "    error = y_pred - y\n",
        "    dw = (1 / self.n_samples) * np.dot(X.T, error)\n",
        "    db = (1 / self.n_samples) * np.sum(error)\n",
        "    self.c_errors.append(db)\n",
        "    return dw, db\n",
        "\n",
        "  def get_gradients_sgd(self, X, y, y_pred, num_samples, full_y):\n",
        "    self.count_samples_size +=  1\n",
        "    error = y_pred - y\n",
        "    dw = (1 / self.n_samples) * np.dot(X.T, error)\n",
        "    db = (1 / self.n_samples) * np.sum(error)\n",
        "    if self.count_samples_size < num_samples:\n",
        "      self.inter_error.append(db)\n",
        "    else:\n",
        "      self.c_errors.append(calc_mse(full_y, np.sum(self.inter_error)))\n",
        "      self.inter_error = []\n",
        "      self.count_samples_size = 0\n",
        "    return dw, db\n",
        "\n",
        "  def update_params(self, dw, db):\n",
        "    self.weights -= self.lr * dw\n",
        "    self.bias -= self.lr * db\n",
        "\n",
        "  def fitGD(self, X, y):\n",
        "    count = 0\n",
        "    self.n_samples, self.n_features = X.shape\n",
        "    self.init_params()\n",
        "    for iter in range(self.n_iters):\n",
        "      count += 1\n",
        "      self.c_epoches.append(count)\n",
        "      y_pred = self.get_prediction(X)\n",
        "      dw, db = self.get_gradients(X, y, y_pred) #derivate of the weights and bias\n",
        "      self.update_params(dw, db)\n",
        "    print(' =-= Paramêtros =-=\\n', '\\nVetor de pesos: \\n', dw,'\\n\\n Bias:', db)\n",
        "    print('\\n Gráfico da reta')\n",
        "    self.generate_plot(X, y)\n",
        "    print('\\n Gráfico do erro no treino')\n",
        "    self.generate_train_plot(self.c_epoches, self.c_errors)\n",
        "\n",
        "  def fitSGD(self, X, y):\n",
        "    save_original = X\n",
        "    count = 0\n",
        "    self.n_samples, self.n_features = 1, X.shape[1]\n",
        "    self.init_params()\n",
        "    ds = np.hstack((X, y))\n",
        "    for iter in range(self.n_iters):\n",
        "      count += 1\n",
        "      self.c_epoches.append(count)\n",
        "      middle_v = np.random.permutation(ds)\n",
        "      # print(middle_v.shape)\n",
        "      # print(middle_v)\n",
        "      for _ in range(middle_v.shape[0]):\n",
        "        X_s = X[_].reshape(1, 2)\n",
        "        # print(X_s)\n",
        "        y_s = y[_].reshape(1, 1)\n",
        "        # print(y_s)\n",
        "        y_pred = self.get_prediction(X_s)\n",
        "        dw, db = self.get_gradients_sgd(X_s, y_s, y_pred, ds.shape[0], y)\n",
        "        self.update_params(dw, db)\n",
        "    print(' =-= Paramêtros =-=\\n', '\\nVetor de pesos: \\n', dw,'\\n\\n Bias:', db)\n",
        "    self.generate_plot(X, y)\n",
        "    # print(self.c_errors)\n",
        "    print('\\n Gráfico do erro no treino')\n",
        "    self.generate_train_plot(self.c_epoches, self.c_errors)\n",
        "\n",
        "  def predict(self, X):\n",
        "      y_pred = self.get_prediction(X)\n",
        "      return y_pred\n",
        "\n",
        "  def generate_plot(self, X, y):\n",
        "    predictions = self.predict(X)\n",
        "    plt.plot(X[:, 1], predictions[:, :1], color='red', label='Linear Regression')\n",
        "    plt.scatter(X[:, 1], y, color='blue', label='Data Point')\n",
        "    plt.legend()\n",
        "    plt.show()\n",
        "\n",
        "  def generate_train_plot(self, count_epochs, count_errors):\n",
        "    plt.plot(count_epochs, count_errors, color='red', label='Train Error')\n",
        "    plt.legend()\n",
        "    plt.show()"
      ],
      "metadata": {
        "id": "yhJEgF4lXuXG"
      },
      "execution_count": null,
      "outputs": []
    },
    {
      "cell_type": "markdown",
      "source": [
        "### GD"
      ],
      "metadata": {
        "id": "IRIVC5TufKA5"
      }
    },
    {
      "cell_type": "code",
      "source": [
        "linreg = LinearRegression(learning_rate=0.01, n_iters=1000)\n",
        "linreg.fitGD(X, y)"
      ],
      "metadata": {
        "id": "MjhCvmo5fktV",
        "colab": {
          "base_uri": "https://localhost:8080/",
          "height": 1000
        },
        "outputId": "ceb031f2-b729-46ee-c6c2-2019cc22493d"
      },
      "execution_count": null,
      "outputs": [
        {
          "output_type": "stream",
          "name": "stdout",
          "text": [
            " =-= Paramêtros =-=\n",
            " \n",
            "Vetor de pesos: \n",
            " [[-1.16121231e-10]\n",
            " [-1.58630394e-02]] \n",
            "\n",
            " Bias: -1.1612123855068527e-10\n",
            "\n",
            " Gráfico da reta\n"
          ]
        },
        {
          "output_type": "display_data",
          "data": {
            "text/plain": [
              "<Figure size 640x480 with 1 Axes>"
            ],
            "image/png": "[encoded data removed]"
          },
          "metadata": {}
        },
        {
          "output_type": "stream",
          "name": "stdout",
          "text": [
            "\n",
            " Gráfico do erro no treino\n"
          ]
        },
        {
          "output_type": "display_data",
          "data": {
            "text/plain": [
              "<Figure size 640x480 with 1 Axes>"
            ],
            "image/png": "[encoded data removed]"
          },
          "metadata": {}
        }
      ]
    },
    {
      "cell_type": "code",
      "source": [
        "predictions = linreg.predict(X)\n",
        "print(f\"RMSE: {calc_mse(y, predictions)}\")"
      ],
      "metadata": {
        "colab": {
          "base_uri": "https://localhost:8080/"
        },
        "id": "2Xu8jMT398Uo",
        "outputId": "f1a56316-ba14-41ba-ad23-fa1c22c7d256"
      },
      "execution_count": null,
      "outputs": [
        {
          "output_type": "stream",
          "name": "stdout",
          "text": [
            "RMSE: 0.21410208188254687\n"
          ]
        }
      ]
    },
    {
      "cell_type": "markdown",
      "source": [
        "### SGD"
      ],
      "metadata": {
        "id": "yVF8OEUZfGQ0"
      }
    },
    {
      "cell_type": "code",
      "source": [
        "linreg = LinearRegression(learning_rate=0.01, n_iters=1000)\n",
        "linreg.fitSGD(X, y)"
      ],
      "metadata": {
        "colab": {
          "base_uri": "https://localhost:8080/",
          "height": 999
        },
        "id": "KPmoj0sYsAR5",
        "outputId": "1b2b359a-9077-4ccc-aec3-c6c41d81b69f"
      },
      "execution_count": null,
      "outputs": [
        {
          "output_type": "stream",
          "name": "stdout",
          "text": [
            " =-= Paramêtros =-=\n",
            " \n",
            "Vetor de pesos: \n",
            " [[-0.68782858]\n",
            " [-0.68782858]] \n",
            "\n",
            " Bias: -0.6878285836074993\n"
          ]
        },
        {
          "output_type": "display_data",
          "data": {
            "text/plain": [
              "<Figure size 640x480 with 1 Axes>"
            ],
            "image/png": "[encoded data removed]"
          },
          "metadata": {}
        },
        {
          "output_type": "stream",
          "name": "stdout",
          "text": [
            "\n",
            " Gráfico do erro no treino\n"
          ]
        },
        {
          "output_type": "display_data",
          "data": {
            "text/plain": [
              "<Figure size 640x480 with 1 Axes>"
            ],
            "image/png": "[encoded data removed]"
          },
          "metadata": {}
        }
      ]
    },
    {
      "cell_type": "code",
      "source": [
        "predictions = linreg.predict(X)\n",
        "print(f\"MSE: {calc_mse(y, predictions)}\")"
      ],
      "metadata": {
        "colab": {
          "base_uri": "https://localhost:8080/"
        },
        "id": "CtGSlIZeezu2",
        "outputId": "d1a61954-388d-4541-e881-98b7addcd419"
      },
      "execution_count": null,
      "outputs": [
        {
          "output_type": "stream",
          "name": "stdout",
          "text": [
            "MSE: 0.2134013879557619\n"
          ]
        }
      ]
    },
    {
      "cell_type": "markdown",
      "source": [
        "## Qo2) A"
      ],
      "metadata": {
        "id": "4LPVMMSfQ2A0"
      }
    },
    {
      "cell_type": "code",
      "source": [
        "california = np.genfromtxt('/content/california.csv', delimiter=',')\n",
        "california"
      ],
      "metadata": {
        "colab": {
          "base_uri": "https://localhost:8080/"
        },
        "id": "rfuanscgQ5rV",
        "outputId": "b20cc429-9735-4e11-ada2-135006d0fd1f"
      },
      "execution_count": null,
      "outputs": [
        {
          "output_type": "execute_result",
          "data": {
            "text/plain": [
              "array([[   4.1685    ,   20.        ,    6.70063694, ...,   38.8       ,\n",
              "        -121.15      ,    2.175     ],\n",
              "       [   2.8194    ,   24.        ,    4.7625    , ...,   36.75      ,\n",
              "        -119.85      ,    0.811     ],\n",
              "       [   2.425     ,   46.        ,    4.92771084, ...,   36.33      ,\n",
              "        -119.31      ,    0.849     ],\n",
              "       ...,\n",
              "       [   4.7308    ,   35.        ,    5.66666667, ...,   33.83      ,\n",
              "        -118.37      ,    3.534     ],\n",
              "       [   4.2788    ,   10.        ,    5.375     , ...,   33.68      ,\n",
              "        -117.35      ,    1.25      ],\n",
              "       [   2.8036    ,   18.        ,    3.27400881, ...,   34.1       ,\n",
              "        -118.35      ,    2.25      ]])"
            ]
          },
          "metadata": {},
          "execution_count": 9
        }
      ]
    },
    {
      "cell_type": "code",
      "source": [
        "california.shape"
      ],
      "metadata": {
        "colab": {
          "base_uri": "https://localhost:8080/"
        },
        "outputId": "7865ec1b-9953-40aa-eceb-6355f4982dc4",
        "id": "zrdeuAYYRNuU"
      },
      "execution_count": null,
      "outputs": [
        {
          "output_type": "execute_result",
          "data": {
            "text/plain": [
              "(1000, 9)"
            ]
          },
          "metadata": {},
          "execution_count": 10
        }
      ]
    },
    {
      "cell_type": "code",
      "source": [
        "def train_test_split(X, part):\n",
        "  np.random.shuffle(X)\n",
        "  n_train = int(X.shape[0]*part)\n",
        "  train, test = X[:n_train,:], X[n_train:,:]\n",
        "  X_train, X_test = train[:, :-1], test[:, :-1]\n",
        "  y_train, y_test = train[:, -1].reshape(-1, 1), test[:, -1].reshape(-1, 1)\n",
        "  return X_train, X_test, y_train, y_test"
      ],
      "metadata": {
        "id": "BegQHIGRXJ4g"
      },
      "execution_count": null,
      "outputs": []
    },
    {
      "cell_type": "code",
      "source": [
        "X_train, X_test, y_train, y_test = train_test_split(california, 0.8)"
      ],
      "metadata": {
        "id": "h7x3KyeeX6Cc"
      },
      "execution_count": null,
      "outputs": []
    },
    {
      "cell_type": "code",
      "source": [
        "print(X_train.shape)\n",
        "print(y_train.shape)\n",
        "print(X_test.shape)\n",
        "print(y_test.shape)"
      ],
      "metadata": {
        "colab": {
          "base_uri": "https://localhost:8080/"
        },
        "id": "shOpATg3YB5m",
        "outputId": "d16d98cc-1b8d-4474-981b-1a9ba3eb93a1"
      },
      "execution_count": null,
      "outputs": [
        {
          "output_type": "stream",
          "name": "stdout",
          "text": [
            "(800, 8)\n",
            "(800, 1)\n",
            "(200, 8)\n",
            "(200, 1)\n"
          ]
        }
      ]
    },
    {
      "cell_type": "markdown",
      "source": [
        "## Qo2) B"
      ],
      "metadata": {
        "id": "yWUOr5H52HET"
      }
    },
    {
      "cell_type": "code",
      "source": [
        "train = np.hstack((X_train, y_train))\n",
        "test = np.hstack((X_test, y_test))"
      ],
      "metadata": {
        "id": "b0Lglaml5ufy"
      },
      "execution_count": null,
      "outputs": []
    },
    {
      "cell_type": "code",
      "source": [
        "class PolynomialRegressionOLS:\n",
        "\n",
        "  def __init__(self, degree=2, regularization=0):\n",
        "    self.degree = degree\n",
        "    self.l2 = regularization\n",
        "\n",
        "  def get_infos(self, train, test):\n",
        "    n_samples_tr = train.shape[0]\n",
        "    n_samples_te = test.shape[0]\n",
        "    self.X_tr = np.ones((n_samples_tr, 1))\n",
        "    self.X_te = np.ones((n_samples_te, 1))\n",
        "    self.y_tr = train[:, -1]\n",
        "    self.y_te = test[:, -1]\n",
        "    self.n_features = train.shape[1]\n",
        "\n",
        "  def transform(self, train, test):\n",
        "    for _ in range(self.n_features-1):\n",
        "      for pol in range(self.degree):\n",
        "        self.X_tr = np.c_[self.X_tr, train[:, [_]]**(pol+1)]\n",
        "        self.X_te = np.c_[self.X_te, test[:, [_]]**(pol+1)]\n",
        "\n",
        "  def normalize(self):\n",
        "    X_max = np.max(self.X_tr, axis = 0, keepdims=True)\n",
        "    X_min = np.min(self.X_tr, axis = 0, keepdims=True)\n",
        "    self.y_max = np.max(self.y_tr, axis = 0, keepdims=True)\n",
        "    self.y_min = np.min(self.y_tr, axis = 0, keepdims=True)\n",
        "\n",
        "    X_tr_norm = (self.X_tr - X_min)/(X_max - X_min)\n",
        "    X_te_norm = (self.X_te - X_min)/(X_max - X_min)\n",
        "    X_tr_norm[:, 0] = 1\n",
        "    X_te_norm[:, 0] = 1\n",
        "\n",
        "    y_tr_norm = (self.y_tr - self.y_min)/(self.y_max - self.y_min)\n",
        "\n",
        "    return X_tr_norm, X_te_norm, y_tr_norm\n",
        "\n",
        "  def denormalize(self, y_norm):\n",
        "    return y_norm*(self.y_max - self.y_min) + self.y_min\n",
        "\n",
        "  def get_weight(self, X_tr_norm, y_tr_norm):\n",
        "    self.w = np.linalg.solve(X_tr_norm.T @ X_tr_norm + self.l2*np.eye(X_tr_norm.shape[1]), X_tr_norm.T @ y_tr_norm)\n",
        "\n",
        "  def get_prediction(self, X):\n",
        "    return  X @ self.w\n",
        "\n",
        "  def fit(self, train, test):\n",
        "    self.get_infos(train, test)\n",
        "    self.transform(train, test)\n",
        "    X_tr_norm, X_te_norm, y_tr_norm = self.normalize()\n",
        "    self.get_weight(X_tr_norm, y_tr_norm)\n",
        "    y_hat_tr_norm = self.get_prediction(X_tr_norm)\n",
        "    y_hat_te_norm = self.get_prediction(X_te_norm)\n",
        "    y_hat_tr = self.denormalize(y_hat_tr_norm)\n",
        "    y_hat_te = self.denormalize(y_hat_te_norm)\n",
        "    RMSE_tr = calc_rmse(self.y_tr, y_hat_tr)\n",
        "    RMSE_te = calc_rmse(self.y_te, y_hat_te)\n",
        "    return self.w, RMSE_tr, RMSE_te"
      ],
      "metadata": {
        "id": "13jZALwV2Izd"
      },
      "execution_count": null,
      "outputs": []
    },
    {
      "cell_type": "code",
      "source": [
        "weight_v = []\n",
        "RMSE_tr_v = []\n",
        "RMSE_te_v = []\n",
        "\n",
        "for degree in range(13):\n",
        "  poly_ols = PolynomialRegressionOLS(degree)\n",
        "  w, rmse_tr, rmse_te = poly_ols.fit(train, test)\n",
        "  weight_v.append(w)\n",
        "  RMSE_tr_v.append(rmse_tr)\n",
        "  RMSE_te_v.append(rmse_te)"
      ],
      "metadata": {
        "colab": {
          "base_uri": "https://localhost:8080/"
        },
        "id": "M-WI2XpS6fPR",
        "outputId": "c85cf997-39f8-4c49-c97d-d0282b2da029"
      },
      "execution_count": null,
      "outputs": [
        {
          "output_type": "stream",
          "name": "stderr",
          "text": [
            "<ipython-input-37-ba2677a6f2cb>:28: RuntimeWarning: invalid value encountered in true_divide\n",
            "  X_tr_norm = (self.X_tr - X_min)/(X_max - X_min)\n",
            "<ipython-input-37-ba2677a6f2cb>:29: RuntimeWarning: invalid value encountered in true_divide\n",
            "  X_te_norm = (self.X_te - X_min)/(X_max - X_min)\n"
          ]
        }
      ]
    },
    {
      "cell_type": "markdown",
      "source": [
        "## Qo2) C"
      ],
      "metadata": {
        "id": "EPWijJiQBRuT"
      }
    },
    {
      "cell_type": "code",
      "source": [
        "pol = []\n",
        "for x in range(13):\n",
        "  pol.append(x+1)\n",
        "\n",
        "print(pol)"
      ],
      "metadata": {
        "colab": {
          "base_uri": "https://localhost:8080/"
        },
        "id": "8xvdND9lBvK3",
        "outputId": "3b4891db-984a-4de3-882d-f5450a91a56c"
      },
      "execution_count": null,
      "outputs": [
        {
          "output_type": "stream",
          "name": "stdout",
          "text": [
            "[1, 2, 3, 4, 5, 6, 7, 8, 9, 10, 11, 12, 13]\n"
          ]
        }
      ]
    },
    {
      "cell_type": "code",
      "source": [
        "plt.plot(pol, RMSE_tr_v, color='red', label='Train Error')\n",
        "plt.plot(pol, RMSE_te_v, color='blue', label='Test Error')\n",
        "plt.legend()\n",
        "plt.show()"
      ],
      "metadata": {
        "colab": {
          "base_uri": "https://localhost:8080/",
          "height": 430
        },
        "id": "aWh4rNA8BZA1",
        "outputId": "85e2d068-e840-43e6-8aba-a74e5da2c6dc"
      },
      "execution_count": null,
      "outputs": [
        {
          "output_type": "display_data",
          "data": {
            "text/plain": [
              "<Figure size 640x480 with 1 Axes>"
            ],
            "image/png": "[encoded data removed]"
          },
          "metadata": {}
        }
      ]
    },
    {
      "cell_type": "markdown",
      "source": [
        "## Qo2) D"
      ],
      "metadata": {
        "id": "t1hzt6w1LO4M"
      }
    },
    {
      "cell_type": "code",
      "source": [
        "weight_v = []\n",
        "RMSE_tr_v = []\n",
        "RMSE_te_v = []\n",
        "\n",
        "for degree in range(13):\n",
        "  poly_ols = PolynomialRegressionOLS(degree, 0.01)\n",
        "  w, rmse_tr, rmse_te = poly_ols.fit(train, test)\n",
        "  weight_v.append(w)\n",
        "  RMSE_tr_v.append(rmse_tr)\n",
        "  RMSE_te_v.append(rmse_te)"
      ],
      "metadata": {
        "colab": {
          "base_uri": "https://localhost:8080/"
        },
        "id": "IFvL6TvyCB-V",
        "outputId": "ad62f6a3-2a2f-499d-a274-df3c023c3e5c"
      },
      "execution_count": null,
      "outputs": [
        {
          "output_type": "stream",
          "name": "stderr",
          "text": [
            "<ipython-input-37-ba2677a6f2cb>:28: RuntimeWarning: invalid value encountered in true_divide\n",
            "  X_tr_norm = (self.X_tr - X_min)/(X_max - X_min)\n",
            "<ipython-input-37-ba2677a6f2cb>:29: RuntimeWarning: invalid value encountered in true_divide\n",
            "  X_te_norm = (self.X_te - X_min)/(X_max - X_min)\n"
          ]
        }
      ]
    },
    {
      "cell_type": "code",
      "source": [
        "plt.plot(pol, RMSE_tr_v, color='red', label='Train Error')\n",
        "plt.plot(pol, RMSE_te_v, color='blue', label='Test Error')\n",
        "plt.legend()\n",
        "plt.show()"
      ],
      "metadata": {
        "colab": {
          "base_uri": "https://localhost:8080/",
          "height": 430
        },
        "id": "PryPvHYELWwe",
        "outputId": "32c227cf-4924-45ac-ef52-9450a0ffed11"
      },
      "execution_count": null,
      "outputs": [
        {
          "output_type": "display_data",
          "data": {
            "text/plain": [
              "<Figure size 640x480 with 1 Axes>"
            ],
            "image/png": "[encoded data removed]"
          },
          "metadata": {}
        }
      ]
    },
    {
      "cell_type": "code",
      "source": [],
      "metadata": {
        "id": "wwXpIav8LY2e"
      },
      "execution_count": null,
      "outputs": []
    }
  ]
}